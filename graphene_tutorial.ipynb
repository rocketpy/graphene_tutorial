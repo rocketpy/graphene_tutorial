{
 "cells": [
  {
   "cell_type": "code",
   "execution_count": null,
   "metadata": {},
   "outputs": [],
   "source": [
    "# https://docs.graphene-python.org/en/latest/\n",
    "# https://pypi.org/project/graphene/\n",
    "# pip install graphene"
   ]
  },
  {
   "cell_type": "code",
   "execution_count": null,
   "metadata": {},
   "outputs": [],
   "source": [
    "import graphene"
   ]
  },
  {
   "cell_type": "code",
   "execution_count": null,
   "metadata": {},
   "outputs": [],
   "source": [
    "# some example\n",
    "\n",
    "class Query(graphene.ObjectType): \n",
    " \n",
    "    hello = graphene.String(description='Hello world')\n",
    " \n",
    "    def resolve_hello(self, args, context, info):  \n",
    "        return 'World'\n",
    "\n",
    "schema = graphene.Schema(query=Query) \n",
    "\n",
    "# # then querying graphene.Schema is as simple\n",
    "\n",
    "query = '''\n",
    "    query {\n",
    "      hello\n",
    "    }\n",
    "'''  \n",
    "\n",
    "result = schema.execute(query)"
   ]
  },
  {
   "cell_type": "code",
   "execution_count": null,
   "metadata": {},
   "outputs": [],
   "source": [
    "# other example\n",
    "\n",
    "class Query(graphene.ObjectType):\n",
    "    hello = graphene.String(description='Hello world')\n",
    "\n",
    "    def resolve_hello(self, info):\n",
    "        return 'World'\n",
    "\n",
    "schema = graphene.Schema(query=Query)\n",
    "\n",
    "# then querying graphene.Schema is as simple\n",
    "\n",
    "query = '''\n",
    "    query SayHello {\n",
    "      hello\n",
    "    }\n",
    "'''\n",
    "result = schema.execute(query)"
   ]
  }
 ],
 "metadata": {
  "kernelspec": {
   "display_name": "Python 3",
   "language": "python",
   "name": "python3"
  },
  "language_info": {
   "codemirror_mode": {
    "name": "ipython",
    "version": 3
   },
   "file_extension": ".py",
   "mimetype": "text/x-python",
   "name": "python",
   "nbconvert_exporter": "python",
   "pygments_lexer": "ipython3",
   "version": "3.6.2"
  }
 },
 "nbformat": 4,
 "nbformat_minor": 2
}
